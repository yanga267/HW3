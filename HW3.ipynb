{
 "cells": [
  {
   "cell_type": "code",
   "execution_count": 3,
   "metadata": {},
   "outputs": [],
   "source": [
    "#q0\n",
    "marks = {'Andy':88, 'Amy':66, 'James': 90, 'Jules': 55, 'Arthur': 77}"
   ]
  },
  {
   "cell_type": "code",
   "execution_count": 11,
   "metadata": {},
   "outputs": [
    {
     "name": "stdout",
     "output_type": "stream",
     "text": [
      "Andy scored 88\n",
      "Amy scored 66\n",
      "James scored 90\n",
      "Jules scored 55\n",
      "Arthur scored 77\n"
     ]
    }
   ],
   "source": [
    "#q1\n",
    "for student,grades in marks.items():\n",
    "    print(f'{student} scored {grades}')"
   ]
  },
  {
   "cell_type": "code",
   "execution_count": 24,
   "metadata": {
    "scrolled": true
   },
   "outputs": [
    {
     "name": "stdout",
     "output_type": "stream",
     "text": [
      "mean=  75.2\n",
      "max=  90\n",
      "min=  55\n"
     ]
    }
   ],
   "source": [
    "#q2\n",
    "import statistics\n",
    "from statistics import mean\n",
    "key_max=max(marks,key=marks.get)\n",
    "key_min=min(marks,key=marks.get)\n",
    "print('mean= ',mean(marks[k] for k in marks))\n",
    "print('max= ',marks[key_max])\n",
    "print('min= ',marks[key_min])"
   ]
  },
  {
   "cell_type": "code",
   "execution_count": 37,
   "metadata": {},
   "outputs": [
    {
     "name": "stdout",
     "output_type": "stream",
     "text": [
      "{'Andy'}\n",
      "{'Amy'}\n"
     ]
    }
   ],
   "source": [
    "#q3\n",
    "for student,grades in marks.items():\n",
    "    if 'J' in student:\n",
    "        break\n",
    "    else:\n",
    "        print({student})"
   ]
  },
  {
   "cell_type": "code",
   "execution_count": 38,
   "metadata": {},
   "outputs": [
    {
     "name": "stdout",
     "output_type": "stream",
     "text": [
      "{'Andy'}\n",
      "{'Amy'}\n",
      "{'Arthur'}\n"
     ]
    }
   ],
   "source": [
    "#q4\n",
    "for student,grades in marks.items():\n",
    "    if 'J' in student:\n",
    "        print(end='')\n",
    "    else:\n",
    "        print({student})"
   ]
  },
  {
   "cell_type": "code",
   "execution_count": 39,
   "metadata": {},
   "outputs": [
    {
     "name": "stdout",
     "output_type": "stream",
     "text": [
      "88\n"
     ]
    }
   ],
   "source": [
    "def print_student(student_name):\n",
    "    marks = {'Andy':88, 'Amy':66, 'James': 90, 'Jules': 55, 'Arthur': 77}\n",
    "    for student in marks:\n",
    "        if student == student_name:\n",
    "            print(marks[student])\n",
    "            break\n",
    "    else:\n",
    "        print('No entry with name found.')\n",
    "        \n",
    "print_student('Andy')"
   ]
  },
  {
   "cell_type": "code",
   "execution_count": null,
   "metadata": {},
   "outputs": [],
   "source": []
  }
 ],
 "metadata": {
  "kernelspec": {
   "display_name": "Python 3",
   "language": "python",
   "name": "python3"
  },
  "language_info": {
   "codemirror_mode": {
    "name": "ipython",
    "version": 3
   },
   "file_extension": ".py",
   "mimetype": "text/x-python",
   "name": "python",
   "nbconvert_exporter": "python",
   "pygments_lexer": "ipython3",
   "version": "3.8.3"
  }
 },
 "nbformat": 4,
 "nbformat_minor": 4
}
